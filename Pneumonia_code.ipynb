{
  "cells": [
    {
      "cell_type": "markdown",
      "metadata": {
        "id": "view-in-github",
        "colab_type": "text"
      },
      "source": [
        "<a href=\"https://colab.research.google.com/github/eunoia-code/pneumonia-ipynb/blob/main/Pneumonia_code.ipynb\" target=\"_parent\"><img src=\"https://colab.research.google.com/assets/colab-badge.svg\" alt=\"Open In Colab\"/></a>"
      ]
    },
    {
      "cell_type": "code",
      "execution_count": 1,
      "metadata": {
        "colab": {
          "base_uri": "https://localhost:8080/"
        },
        "id": "UBUdaL_v1fGC",
        "outputId": "90244d1b-58ec-440c-e0e1-fae55b302452"
      },
      "outputs": [
        {
          "output_type": "stream",
          "name": "stdout",
          "text": [
            "Mounted at /content/drive\n"
          ]
        }
      ],
      "source": [
        "from google.colab import drive\n",
        "drive.mount('/content/drive')\n",
        "\n",
        "# !ls \"/content/drive/My Drive\""
      ]
    },
    {
      "cell_type": "code",
      "execution_count": null,
      "metadata": {
        "colab": {
          "base_uri": "https://localhost:8080/"
        },
        "id": "-pga5dZH1pAV",
        "outputId": "8b9c9f7a-1dff-41bd-a05b-c0aeb5bc8a05"
      },
      "outputs": [
        {
          "output_type": "stream",
          "name": "stdout",
          "text": [
            "testing  training  validasi\n"
          ]
        }
      ],
      "source": [
        "!ls \"/content/drive/My Drive/Dataset_penelitian_pneumonia/preprocess\""
      ]
    },
    {
      "cell_type": "code",
      "execution_count": null,
      "metadata": {
        "id": "H3kdB-YQX4w4"
      },
      "outputs": [],
      "source": [
        "base_path = '/content/drive/My Drive/Dataset_penelitian_pneumonia/preprocess'"
      ]
    },
    {
      "cell_type": "code",
      "execution_count": null,
      "metadata": {
        "id": "AV_FVVWKX8Rl"
      },
      "outputs": [],
      "source": [
        "import tensorflow as tf\n",
        "from tensorflow.keras.applications import ResNet152\n",
        "from tensorflow.keras.preprocessing.image import ImageDataGenerator\n",
        "from tensorflow.keras.layers import Dropout"
      ]
    },
    {
      "cell_type": "code",
      "execution_count": null,
      "metadata": {
        "id": "RJJ70MSsX9bG"
      },
      "outputs": [],
      "source": [
        "# Load the ResNet152 model\n",
        "base_model = ResNet152(weights=None, include_top=False, input_shape=(256, 256, 3))"
      ]
    },
    {
      "cell_type": "code",
      "execution_count": null,
      "metadata": {
        "id": "OZ5jyEA5X-7V"
      },
      "outputs": [],
      "source": [
        "# Add dropout layer\n",
        "x = base_model.output\n",
        "x = Dropout(0.5)(x)  # Dropout rate of 50%\n",
        "x = tf.keras.layers.GlobalAveragePooling2D()(x)"
      ]
    },
    {
      "cell_type": "code",
      "execution_count": null,
      "metadata": {
        "id": "p7QserfkYBGV"
      },
      "outputs": [],
      "source": [
        "# Add final dense layer\n",
        "predictions = tf.keras.layers.Dense(3, activation='softmax')(x)"
      ]
    },
    {
      "cell_type": "code",
      "execution_count": null,
      "metadata": {
        "id": "QyjM_G1aYCTN"
      },
      "outputs": [],
      "source": [
        "from tensorflow.keras.optimizers import Adam\n",
        "\n",
        "# Set the learning rate\n",
        "learning_rate = 0.001\n",
        "\n",
        "# Initialize the optimizer\n",
        "optimizer = Adam(learning_rate=learning_rate)"
      ]
    },
    {
      "cell_type": "code",
      "execution_count": null,
      "metadata": {
        "id": "iYlrSc_iYDht"
      },
      "outputs": [],
      "source": [
        "# Compile the model\n",
        "model = tf.keras.models.Model(inputs=base_model.input, outputs=predictions)\n",
        "# Compile the model with the optimizer\n",
        "model.compile(optimizer=optimizer, loss='categorical_crossentropy', metrics=['accuracy'])"
      ]
    },
    {
      "cell_type": "code",
      "execution_count": null,
      "metadata": {
        "id": "sCYgqBaUYFIt"
      },
      "outputs": [],
      "source": [
        "# Create data generators\n",
        "train_datagen = ImageDataGenerator(\n",
        "    rescale=1./255,\n",
        "    shear_range=0.2,\n",
        "    rotation_range=20,\n",
        "    zoom_range=0.2,\n",
        "    vertical_flip=True)\n",
        "test_datagen = ImageDataGenerator(\n",
        "    rescale=1./255,\n",
        "    shear_range=0.2,\n",
        "    rotation_range=20,\n",
        "    zoom_range=0.2,\n",
        "    vertical_flip=True)\n",
        "val_datagen = ImageDataGenerator(\n",
        "    rescale=1./255,\n",
        "    shear_range=0.2,\n",
        "    rotation_range=20,\n",
        "    zoom_range=0.2,\n",
        "    vertical_flip=True)"
      ]
    },
    {
      "cell_type": "code",
      "execution_count": null,
      "metadata": {
        "colab": {
          "base_uri": "https://localhost:8080/"
        },
        "id": "9IgwbDOMYGo1",
        "outputId": "83a9750b-1824-40e5-b2cf-48b8f53a35da"
      },
      "outputs": [
        {
          "output_type": "stream",
          "name": "stdout",
          "text": [
            "Found 8188 images belonging to 3 classes.\n"
          ]
        }
      ],
      "source": [
        "train_generator = train_datagen.flow_from_directory(\n",
        "        base_path+'/training',  # this is the target directory\n",
        "        target_size=(224, 224),\n",
        "        color_mode='grayscale',\n",
        "        batch_size=32,\n",
        "        class_mode='categorical')"
      ]
    },
    {
      "cell_type": "code",
      "execution_count": null,
      "metadata": {
        "colab": {
          "base_uri": "https://localhost:8080/"
        },
        "id": "JccLFTqpYUCN",
        "outputId": "e4ba1e37-fe22-473a-929c-8e9a246894b6"
      },
      "outputs": [
        {
          "output_type": "stream",
          "name": "stdout",
          "text": [
            "Found 1515 images belonging to 3 classes.\n"
          ]
        }
      ],
      "source": [
        "validation_generator = val_datagen.flow_from_directory(\n",
        "        base_path+'/validasi',\n",
        "        target_size=(224, 224),\n",
        "        color_mode='grayscale',\n",
        "        batch_size=32,\n",
        "        class_mode='categorical')"
      ]
    },
    {
      "cell_type": "code",
      "execution_count": null,
      "metadata": {
        "colab": {
          "base_uri": "https://localhost:8080/"
        },
        "id": "mINRSmCwcMwc",
        "outputId": "f14dda5e-2199-4ccf-b83c-c23372ebc8e0"
      },
      "outputs": [
        {
          "output_type": "stream",
          "name": "stdout",
          "text": [
            "Found 1515 images belonging to 3 classes.\n"
          ]
        }
      ],
      "source": [
        "test_generator = test_datagen.flow_from_directory(\n",
        "        base_path+'/testing',\n",
        "        target_size=(224, 224),\n",
        "        color_mode='grayscale',\n",
        "        batch_size=32,\n",
        "        class_mode='categorical')"
      ]
    },
    {
      "cell_type": "code",
      "execution_count": null,
      "metadata": {
        "colab": {
          "base_uri": "https://localhost:8080/"
        },
        "id": "gHExCjhicUyV",
        "outputId": "69581baf-538a-4c00-af99-c711ba30c0e5"
      },
      "outputs": [
        {
          "output_type": "stream",
          "name": "stdout",
          "text": [
            "Epoch 1/25\n",
            "511/511 [==============================] - 3921s 7s/step - loss: 0.7212 - accuracy: 0.7051 - val_loss: 1.8233 - val_accuracy: 0.3637\n",
            "Epoch 2/25\n",
            "511/511 [==============================] - 269s 525ms/step - loss: 0.5862 - accuracy: 0.7471 - val_loss: 1.6720 - val_accuracy: 0.2274\n",
            "Epoch 3/25\n",
            "511/511 [==============================] - 264s 517ms/step - loss: 0.5861 - accuracy: 0.7429 - val_loss: 2.2034 - val_accuracy: 0.3378\n",
            "Epoch 4/25\n",
            "511/511 [==============================] - 264s 517ms/step - loss: 0.5215 - accuracy: 0.7768 - val_loss: 53.4374 - val_accuracy: 0.3331\n",
            "Epoch 5/25\n",
            "511/511 [==============================] - 264s 516ms/step - loss: 0.5400 - accuracy: 0.7698 - val_loss: 2.0007 - val_accuracy: 0.4029\n",
            "Epoch 6/25\n",
            "511/511 [==============================] - 264s 516ms/step - loss: 0.5042 - accuracy: 0.7901 - val_loss: 2.5699 - val_accuracy: 0.4747\n",
            "Epoch 7/25\n",
            "511/511 [==============================] - 263s 515ms/step - loss: 0.4814 - accuracy: 0.7997 - val_loss: 4.4016 - val_accuracy: 0.3477\n",
            "Epoch 8/25\n",
            "511/511 [==============================] - 264s 517ms/step - loss: 0.5112 - accuracy: 0.7899 - val_loss: 3.7205 - val_accuracy: 0.3032\n",
            "Epoch 9/25\n",
            "511/511 [==============================] - 264s 516ms/step - loss: 0.4770 - accuracy: 0.8024 - val_loss: 2.9292 - val_accuracy: 0.3471\n",
            "Epoch 10/25\n",
            "511/511 [==============================] - 263s 515ms/step - loss: 0.4741 - accuracy: 0.8040 - val_loss: 3.3680 - val_accuracy: 0.2779\n",
            "Epoch 11/25\n",
            "511/511 [==============================] - 263s 515ms/step - loss: 0.4949 - accuracy: 0.7915 - val_loss: 2.5717 - val_accuracy: 0.3338\n",
            "Epoch 12/25\n",
            "511/511 [==============================] - 264s 516ms/step - loss: 0.4910 - accuracy: 0.7985 - val_loss: 211.3725 - val_accuracy: 0.3338\n",
            "Epoch 13/25\n",
            "511/511 [==============================] - 264s 516ms/step - loss: 0.4852 - accuracy: 0.7992 - val_loss: 2.3293 - val_accuracy: 0.3617\n",
            "Epoch 14/25\n",
            "511/511 [==============================] - 264s 517ms/step - loss: 0.4658 - accuracy: 0.8092 - val_loss: 3.3396 - val_accuracy: 0.3351\n",
            "Epoch 15/25\n",
            "511/511 [==============================] - 264s 516ms/step - loss: 0.4819 - accuracy: 0.8037 - val_loss: 4.3158 - val_accuracy: 0.4096\n",
            "Epoch 16/25\n",
            "511/511 [==============================] - 264s 516ms/step - loss: 0.4853 - accuracy: 0.7948 - val_loss: 2.1116 - val_accuracy: 0.3258\n",
            "Epoch 17/25\n",
            "511/511 [==============================] - 264s 516ms/step - loss: 0.4715 - accuracy: 0.8079 - val_loss: 2.0555 - val_accuracy: 0.4282\n",
            "Epoch 18/25\n",
            "511/511 [==============================] - 264s 517ms/step - loss: 0.4709 - accuracy: 0.8085 - val_loss: 2.1177 - val_accuracy: 0.3331\n",
            "Epoch 19/25\n",
            "511/511 [==============================] - 264s 517ms/step - loss: 0.4447 - accuracy: 0.8215 - val_loss: 3.6801 - val_accuracy: 0.3358\n",
            "Epoch 20/25\n",
            "511/511 [==============================] - 284s 555ms/step - loss: 0.4424 - accuracy: 0.8246 - val_loss: 3.1628 - val_accuracy: 0.4255\n",
            "Epoch 21/25\n",
            "511/511 [==============================] - 264s 517ms/step - loss: 0.4653 - accuracy: 0.8107 - val_loss: 3.5021 - val_accuracy: 0.3411\n",
            "Epoch 22/25\n",
            "511/511 [==============================] - 263s 515ms/step - loss: 0.4606 - accuracy: 0.8150 - val_loss: 2.9617 - val_accuracy: 0.3870\n",
            "Epoch 23/25\n",
            "511/511 [==============================] - 283s 553ms/step - loss: 0.5008 - accuracy: 0.7950 - val_loss: 18.1264 - val_accuracy: 0.3364\n",
            "Epoch 24/25\n",
            "511/511 [==============================] - 263s 515ms/step - loss: 0.4785 - accuracy: 0.8037 - val_loss: 4.2770 - val_accuracy: 0.3205\n",
            "Epoch 25/25\n",
            "511/511 [==============================] - 263s 515ms/step - loss: 0.4448 - accuracy: 0.8177 - val_loss: 2.4512 - val_accuracy: 0.2593\n"
          ]
        }
      ],
      "source": [
        "from tensorflow.keras.callbacks import ModelCheckpoint, EarlyStopping\n",
        "\n",
        "# Initialize checkpoint\n",
        "checkpoint = ModelCheckpoint('best_model.h5', monitor='val_loss', save_best_only=True)\n",
        "early = EarlyStopping(monitor=\"val_loss\", mode=\"min\", patience=10)\n",
        "\n",
        "callbacks = [checkpoint, early]\n",
        "\n",
        "# Train the model with checkpoint\n",
        "history = model.fit(\n",
        "      train_generator,\n",
        "      steps_per_epoch=train_generator.samples // train_generator.batch_size,\n",
        "      epochs=25,\n",
        "      validation_data=validation_generator,\n",
        "      validation_steps=validation_generator.samples // validation_generator.batch_size,\n",
        "      callbacks=callbacks)"
      ]
    },
    {
      "cell_type": "code",
      "execution_count": null,
      "metadata": {
        "id": "M114s394cbC9",
        "colab": {
          "base_uri": "https://localhost:8080/"
        },
        "outputId": "832c0794-dbdc-42b6-9adf-e8b374e4f651"
      },
      "outputs": [
        {
          "output_type": "stream",
          "name": "stdout",
          "text": [
            "48/48 [==============================] - 666s 14s/step - loss: 2.1560 - accuracy: 0.3366\n",
            "Test accuracy : 0.3366336524486542\n"
          ]
        }
      ],
      "source": [
        "# Evaluate the model\n",
        "loss, accuracy = model.evaluate(test_generator)\n",
        "print('Test accuracy :', accuracy)"
      ]
    },
    {
      "cell_type": "code",
      "source": [
        "from sklearn.metrics import classification_report, roc_auc_score\n",
        "from tensorflow.keras.utils import to_categorical\n",
        "import numpy as np\n",
        "\n",
        "# First, we need to gather the true labels and predicted labels\n",
        "y_true = test_generator.classes\n",
        "y_pred = model.predict(test_generator)\n",
        "y_pred_classes = np.argmax(y_pred, axis=1)\n",
        "\n",
        "# Print classification report\n",
        "report = classification_report(y_true, y_pred_classes, target_names=['Normal', 'Pneumonia', 'Covid-19'])\n",
        "print(report)\n",
        "\n",
        "# Calculate AUC-ROC\n",
        "# AUC-ROC is typically used for binary classification. For multi-class,\n",
        "# we calculate the average AUC-ROC of each class versus the rest\n",
        "roc_auc = roc_auc_score(to_categorical(y_true), y_pred, multi_class='ovr')\n",
        "print('AUC-ROC:', roc_auc)"
      ],
      "metadata": {
        "colab": {
          "base_uri": "https://localhost:8080/"
        },
        "id": "AJP-w7m1-DxQ",
        "outputId": "160367cd-c68a-4b61-8e05-689dd52da8a7"
      },
      "execution_count": null,
      "outputs": [
        {
          "output_type": "stream",
          "name": "stdout",
          "text": [
            "48/48 [==============================] - 23s 429ms/step\n",
            "              precision    recall  f1-score   support\n",
            "\n",
            "      Normal       0.00      0.00      0.00       505\n",
            "   Pneumonia       0.35      0.47      0.40       505\n",
            "    Covid-19       0.33      0.54      0.41       505\n",
            "\n",
            "    accuracy                           0.34      1515\n",
            "   macro avg       0.23      0.34      0.27      1515\n",
            "weighted avg       0.23      0.34      0.27      1515\n",
            "\n",
            "AUC-ROC: 0.5159592196843447\n"
          ]
        },
        {
          "output_type": "stream",
          "name": "stderr",
          "text": [
            "/usr/local/lib/python3.10/dist-packages/sklearn/metrics/_classification.py:1344: UndefinedMetricWarning: Precision and F-score are ill-defined and being set to 0.0 in labels with no predicted samples. Use `zero_division` parameter to control this behavior.\n",
            "  _warn_prf(average, modifier, msg_start, len(result))\n",
            "/usr/local/lib/python3.10/dist-packages/sklearn/metrics/_classification.py:1344: UndefinedMetricWarning: Precision and F-score are ill-defined and being set to 0.0 in labels with no predicted samples. Use `zero_division` parameter to control this behavior.\n",
            "  _warn_prf(average, modifier, msg_start, len(result))\n",
            "/usr/local/lib/python3.10/dist-packages/sklearn/metrics/_classification.py:1344: UndefinedMetricWarning: Precision and F-score are ill-defined and being set to 0.0 in labels with no predicted samples. Use `zero_division` parameter to control this behavior.\n",
            "  _warn_prf(average, modifier, msg_start, len(result))\n"
          ]
        }
      ]
    }
  ],
  "metadata": {
    "accelerator": "GPU",
    "colab": {
      "machine_shape": "hm",
      "provenance": [],
      "authorship_tag": "ABX9TyMakCnYWYIIaIBFzR1key57",
      "include_colab_link": true
    },
    "kernelspec": {
      "display_name": "Python 3",
      "name": "python3"
    },
    "language_info": {
      "name": "python"
    }
  },
  "nbformat": 4,
  "nbformat_minor": 0
}